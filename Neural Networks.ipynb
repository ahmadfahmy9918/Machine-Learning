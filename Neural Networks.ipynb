{
  "nbformat": 4,
  "nbformat_minor": 0,
  "metadata": {
    "colab": {
      "provenance": []
    },
    "kernelspec": {
      "name": "python3",
      "display_name": "Python 3"
    },
    "language_info": {
      "name": "python"
    }
  },
  "cells": [
    {
      "cell_type": "code",
      "execution_count": 38,
      "metadata": {
        "colab": {
          "base_uri": "https://localhost:8080/",
          "height": 295
        },
        "id": "rltgo6TkDlq1",
        "outputId": "e371d760-c70e-40b4-af80-903aac4d8cd2"
      },
      "outputs": [
        {
          "output_type": "display_data",
          "data": {
            "text/plain": [
              "<Figure size 432x288 with 1 Axes>"
            ],
            "image/png": "[encoded data removed]"
          },
          "metadata": {
            "needs_background": "light"
          }
        }
      ],
      "source": [
        "import math\n",
        "import matplotlib.pyplot as plot\n",
        "import numpy as np\n",
        "import pandas as pd\n",
        "import tensorflow as tf\n",
        "from tensorflow import keras\n",
        "\n",
        "#Q1: Plotting X vs Y data\n",
        "\n",
        "X = np.linspace(-1, 1, 30000)\n",
        "Y = 0.2 * X ** 4 + 2 * X ** 3 +0.1 ** 2 + 10\n",
        "\n",
        "d = { 'X': X, 'Y': Y}\n",
        "df = pd.DataFrame(data=d)\n",
        "\n",
        "data = df.to_numpy()\n",
        "\n",
        "plot.plot(data[:, 0], data[:, 1])\n",
        "plot.xlabel('X')\n",
        "plot.ylabel('Y')\n",
        "plot.title('X vs Y')\n",
        "plot.show()"
      ]
    },
    {
      "cell_type": "code",
      "source": [
        "#Q2: Shuffling Data\n",
        "def data_shuffle(arg, data):\n",
        "  if(arg == 'shuffle'):\n",
        "    print(\"Shuffling Data\")\n",
        "    data = df.sample(frac = 1)\n",
        "    return data\n",
        "\n",
        "sh_data = data_shuffle('shuffle', data)\n",
        "print(sh_data)"
      ],
      "metadata": {
        "colab": {
          "base_uri": "https://localhost:8080/"
        },
        "id": "w5e4qtP0FsVQ",
        "outputId": "59c63197-274f-4379-b5b3-b602e1f785e3"
      },
      "execution_count": 14,
      "outputs": [
        {
          "output_type": "stream",
          "name": "stdout",
          "text": [
            "Shuffling Data\n",
            "              X          Y\n",
            "10941 -0.270576   9.971454\n",
            "19808  0.320577  10.078004\n",
            "25653  0.710257  10.777497\n",
            "10276 -0.314910   9.949508\n",
            "29380  0.958732  11.941443\n",
            "...         ...        ...\n",
            "29233  0.948932  11.881141\n",
            "6373  -0.575119   9.651426\n",
            "17398  0.159905  10.018308\n",
            "4850  -0.676656   9.432296\n",
            "13533 -0.097770  10.008149\n",
            "\n",
            "[30000 rows x 2 columns]\n"
          ]
        }
      ]
    },
    {
      "cell_type": "code",
      "source": [
        "#Q3: Data Split Fn\n",
        "def Data_Split(train, test, validtn, data):\n",
        "  train = abs(30000 * train)\n",
        "  validtn = int(abs(30000 * validtn))\n",
        "  test = abs(30000 * test)\n",
        "  testRNG = int(train + test)\n",
        "  training = data.head(int(train))\n",
        "  testing = data.head(int(test))\n",
        "  validtn = data.head(int(testRNG + train))\n",
        "  return training, validtn, testing\n",
        "\n",
        "training, testing, validation = Data_Split(0.3, 0.2, 0.5, sh_data)\n",
        "\n",
        "#Q4: Scaling Data\n",
        "def Scale_Data(train, test, validtn):\n",
        "  minMaxScaled = train.copy()\n",
        "  minMaxScaled['X'] = (minMaxScaled['X'] - minMaxScaled['X'].min()) / (minMaxScaled['X'].max() - minMaxScaled['X'].min())\n",
        "  minMaxScaled['Y'] = (minMaxScaled['Y'] - minMaxScaled['Y'].min()) / (minMaxScaled['Y'].max() - minMaxScaled['Y'].min())\n",
        "\n",
        "  nTest = test.copy()\n",
        "  nTest['X'] = (nTest['X'] - nTest['X'].min()) / (nTest['X'].max() - nTest['X'].min())\n",
        "  nTest['Y'] = (nTest['Y'] - nTest['Y'].min()) / (nTest['Y'].max() - nTest['Y'].min())\n",
        "\n",
        "  nValidtn = validtn.copy()\n",
        "  nValidtn['X'] = (nValidtn['X'] - nValidtn['X'].min()) / (nValidtn['X'].max() - nValidtn['X'].min())\n",
        "  nValidtn['Y'] = (nValidtn['Y'] - nValidtn['Y'].min()) / (nValidtn['Y'].max() - nValidtn['Y'].min())\n",
        "\n",
        "  return minMaxScaled, nTest, nValidtn\n",
        "\n",
        "train, test, validtn = Scale_Data(training, validation, testing)"
      ],
      "metadata": {
        "id": "puDL6f4LHvLx"
      },
      "execution_count": 21,
      "outputs": []
    },
    {
      "cell_type": "code",
      "source": [
        "#Q5: MAE, MSE, RMSE, and R2\n",
        "from sklearn.metrics import mean_absolute_error\n",
        "from sklearn.metrics import mean_squared_error\n",
        "from sklearn.metrics import r2_score\n",
        "\n",
        "def errCalc(xTest, yTest, yPred):\n",
        "  MAE = mean_absolute_error(yTest, yPred)\n",
        "  MSE = mean_squared_error(yTest, yPred)\n",
        "  RMSE = math.sqrt(MSE)\n",
        "  R2 = r2_score(yTest, yPred)\n",
        "  \n",
        "  return MAE, MSE, RMSE, R2"
      ],
      "metadata": {
        "id": "hXNYBhNCWGL5"
      },
      "execution_count": 23,
      "outputs": []
    },
    {
      "cell_type": "code",
      "source": [
        "#Q6: CASE 1\n",
        "xTrain = training['X']\n",
        "yTrain = training['Y']\n",
        "xTest = testing['X']\n",
        "yTest = testing['Y']\n",
        "xVldtn = validation['X']\n",
        "yVldtn = validation['Y']\n",
        "\n",
        "model = keras.Sequential([\n",
        "    keras.layers.Dense(12, activation='relu', input_shape=(1,1)),\n",
        "    keras.layers.Dense(8, activation='relu'),\n",
        "    keras.layers.Dense(4, activation='relu'),\n",
        "    keras.layers.Dense(1, activation='linear')\n",
        "                          ])\n",
        "\n",
        "model.compile(optimizer='adam', loss='MSE')\n",
        "\n",
        "model.fit(xTrain, yTrain, epochs=20, batch_size=12)\n",
        "\n",
        "test_loss = model.evaluate(xTest, yTest)\n",
        "yPred = model.predict(xTest)\n",
        "yPred = {'yPred': yPred.reshape(len(xTest), )}\n",
        "yPred = pd.DataFrame(data=yPred)\n",
        "\n",
        "\n",
        "plot.title('Actual Data')\n",
        "plot.plot(xTest, yTest, 'r*')\n",
        "plot.show()\n",
        "\n",
        "plot.title('Predicted Data')\n",
        "plot.plot(xTest, yPred, 'r*')\n",
        "plot.show()\n",
        "\n",
        "MAE, MSE, RMSE, R2 = errCalc(xTrain, yTest, yPred)\n",
        "print(f\"Mae : {MAE}\")\n",
        "print(f\"MSE : {MSE}\")\n",
        "print(f\"RMSE : {RMSE}\")\n",
        "print(f\"R2 : {R2}\")\n"
      ],
      "metadata": {
        "colab": {
          "base_uri": "https://localhost:8080/",
          "height": 1000
        },
        "id": "Md5LZGKRX-x8",
        "outputId": "9b1653b5-cf6f-4ec5-c79a-2e3a7ddadbf7"
      },
      "execution_count": 25,
      "outputs": [
        {
          "output_type": "stream",
          "name": "stdout",
          "text": [
            "Epoch 1/20\n",
            "750/750 [==============================] - 2s 2ms/step - loss: 31.4426\n",
            "Epoch 2/20\n",
            "750/750 [==============================] - 1s 2ms/step - loss: 0.1189\n",
            "Epoch 3/20\n",
            "750/750 [==============================] - 1s 2ms/step - loss: 0.0460\n",
            "Epoch 4/20\n",
            "750/750 [==============================] - 1s 2ms/step - loss: 0.0194\n",
            "Epoch 5/20\n",
            "750/750 [==============================] - 3s 4ms/step - loss: 0.0069\n",
            "Epoch 6/20\n",
            "750/750 [==============================] - 2s 2ms/step - loss: 0.0037\n",
            "Epoch 7/20\n",
            "750/750 [==============================] - 1s 2ms/step - loss: 0.0027\n",
            "Epoch 8/20\n",
            "750/750 [==============================] - 1s 2ms/step - loss: 0.0023\n",
            "Epoch 9/20\n",
            "750/750 [==============================] - 1s 2ms/step - loss: 0.0022\n",
            "Epoch 10/20\n",
            "750/750 [==============================] - 1s 2ms/step - loss: 0.0022\n",
            "Epoch 11/20\n",
            "750/750 [==============================] - 1s 2ms/step - loss: 0.0022\n",
            "Epoch 12/20\n",
            "750/750 [==============================] - 1s 2ms/step - loss: 0.0022\n",
            "Epoch 13/20\n",
            "750/750 [==============================] - 1s 2ms/step - loss: 0.0022\n",
            "Epoch 14/20\n",
            "750/750 [==============================] - 1s 2ms/step - loss: 0.0023\n",
            "Epoch 15/20\n",
            "750/750 [==============================] - 2s 2ms/step - loss: 0.0021\n",
            "Epoch 16/20\n",
            "750/750 [==============================] - 1s 2ms/step - loss: 0.0023\n",
            "Epoch 17/20\n",
            "750/750 [==============================] - 1s 2ms/step - loss: 0.0022\n",
            "Epoch 18/20\n",
            "750/750 [==============================] - 1s 2ms/step - loss: 0.0022\n",
            "Epoch 19/20\n",
            "750/750 [==============================] - 1s 2ms/step - loss: 0.0022\n",
            "Epoch 20/20\n",
            "750/750 [==============================] - 1s 2ms/step - loss: 0.0021\n",
            "750/750 [==============================] - 1s 1ms/step - loss: 0.0020\n",
            "750/750 [==============================] - 1s 1ms/step\n"
          ]
        },
        {
          "output_type": "display_data",
          "data": {
            "text/plain": [
              "<Figure size 432x288 with 1 Axes>"
            ],
            "image/png": "[encoded data removed]"
          },
          "metadata": {
            "needs_background": "light"
          }
        },
        {
          "output_type": "display_data",
          "data": {
            "text/plain": [
              "<Figure size 432x288 with 1 Axes>"
            ],
            "image/png": "[encoded data removed]"
          },
          "metadata": {
            "needs_background": "light"
          }
        },
        {
          "output_type": "stream",
          "name": "stdout",
          "text": [
            "Mae : 0.032181121801490124\n",
            "MSE : 0.001960803249700268\n",
            "RMSE : 0.04428095809374802\n",
            "R2 : 0.9965982957952275\n"
          ]
        }
      ]
    },
    {
      "cell_type": "code",
      "source": [
        "#Q6: CASE 2\n",
        "\n",
        "model = keras.Sequential([\n",
        "    keras.layers.Dense(24, activation='relu', input_shape=(1,1)),\n",
        "    keras.layers.Dense(1, activation='relu'),\n",
        "])\n",
        "\n",
        "model.compile(optimizer='adam', loss='MSE')\n",
        "\n",
        "model.fit(xTrain, yTrain, epochs=20, batch_size=12)\n",
        "\n",
        "test_loss = model.evaluate(xTest, yTest)\n",
        "yPred = model.predict(xTest)\n",
        "yPred = {'yPred': yPred.reshape(len(xTest), )}\n",
        "yPred = pd.DataFrame(data=yPred)\n",
        "\n",
        "\n",
        "plot.title('Actual Data')\n",
        "plot.plot(xTest, yTest, 'r*')\n",
        "plot.show()\n",
        "\n",
        "plot.title('Predicted Data')\n",
        "plot.plot(xTest, yPred, 'r*')\n",
        "plot.show()\n",
        "\n",
        "MAE, MSE, RMSE, R2 = errCalc(xTrain, yTest, yPred)\n",
        "print(f\"Mae : {MAE}\")\n",
        "print(f\"MSE : {MSE}\")\n",
        "print(f\"RMSE : {RMSE}\")\n",
        "print(f\"R2 : {R2}\")\n"
      ],
      "metadata": {
        "colab": {
          "base_uri": "https://localhost:8080/",
          "height": 1000
        },
        "id": "AM2x7cLEbMTq",
        "outputId": "632b7714-48b1-4890-93f2-a6ed82467f5f"
      },
      "execution_count": 28,
      "outputs": [
        {
          "output_type": "stream",
          "name": "stdout",
          "text": [
            "Epoch 1/20\n",
            "750/750 [==============================] - 2s 1ms/step - loss: 34.4078\n",
            "Epoch 2/20\n",
            "750/750 [==============================] - 1s 1ms/step - loss: 0.0870\n",
            "Epoch 3/20\n",
            "750/750 [==============================] - 1s 1ms/step - loss: 0.0669\n",
            "Epoch 4/20\n",
            "750/750 [==============================] - 1s 1ms/step - loss: 0.0567\n",
            "Epoch 5/20\n",
            "750/750 [==============================] - 1s 1ms/step - loss: 0.0523\n",
            "Epoch 6/20\n",
            "750/750 [==============================] - 1s 1ms/step - loss: 0.0477\n",
            "Epoch 7/20\n",
            "750/750 [==============================] - 1s 2ms/step - loss: 0.0399\n",
            "Epoch 8/20\n",
            "750/750 [==============================] - 1s 2ms/step - loss: 0.0291\n",
            "Epoch 9/20\n",
            "750/750 [==============================] - 1s 2ms/step - loss: 0.0193\n",
            "Epoch 10/20\n",
            "750/750 [==============================] - 1s 1ms/step - loss: 0.0125\n",
            "Epoch 11/20\n",
            "750/750 [==============================] - 1s 1ms/step - loss: 0.0086\n",
            "Epoch 12/20\n",
            "750/750 [==============================] - 1s 1ms/step - loss: 0.0065\n",
            "Epoch 13/20\n",
            "750/750 [==============================] - 1s 1ms/step - loss: 0.0053\n",
            "Epoch 14/20\n",
            "750/750 [==============================] - 1s 1ms/step - loss: 0.0045\n",
            "Epoch 15/20\n",
            "750/750 [==============================] - 1s 1ms/step - loss: 0.0038\n",
            "Epoch 16/20\n",
            "750/750 [==============================] - 1s 1ms/step - loss: 0.0033\n",
            "Epoch 17/20\n",
            "750/750 [==============================] - 1s 1ms/step - loss: 0.0030\n",
            "Epoch 18/20\n",
            "750/750 [==============================] - 2s 2ms/step - loss: 0.0029\n",
            "Epoch 19/20\n",
            "750/750 [==============================] - 2s 2ms/step - loss: 0.0028\n",
            "Epoch 20/20\n",
            "750/750 [==============================] - 1s 1ms/step - loss: 0.0026\n",
            "750/750 [==============================] - 1s 1ms/step - loss: 0.0024\n",
            "750/750 [==============================] - 1s 1ms/step\n"
          ]
        },
        {
          "output_type": "display_data",
          "data": {
            "text/plain": [
              "<Figure size 432x288 with 1 Axes>"
            ],
            "image/png": "[encoded data removed]"
          },
          "metadata": {
            "needs_background": "light"
          }
        },
        {
          "output_type": "display_data",
          "data": {
            "text/plain": [
              "<Figure size 432x288 with 1 Axes>"
            ],
            "image/png": "[encoded data removed]"
          },
          "metadata": {
            "needs_background": "light"
          }
        },
        {
          "output_type": "stream",
          "name": "stdout",
          "text": [
            "Mae : 0.039643203726207075\n",
            "MSE : 0.0023774150266369374\n",
            "RMSE : 0.04875874307892829\n",
            "R2 : 0.9958755358581559\n"
          ]
        }
      ]
    },
    {
      "cell_type": "code",
      "source": [
        "#Q6: CASE 3\n",
        "model = keras.Sequential([\n",
        "    keras.layers.Dense(12, activation='tanh', input_shape=(1,1)),\n",
        "    keras.layers.Dense(8, activation='tanh'),\n",
        "    keras.layers.Dense(4, activation='tanh'),\n",
        "    keras.layers.Dense(1, activation='linear')\n",
        "])\n",
        "\n",
        "model.compile(optimizer='adam', loss='MSE')\n",
        "\n",
        "model.fit(xTrain, yTrain, epochs=20, batch_size=12)\n",
        "\n",
        "test_loss = model.evaluate(xTest, yTest)\n",
        "yPred = model.predict(xTest)\n",
        "yPred = {'yPred': yPred.reshape(len(xTest), )}\n",
        "yPred = pd.DataFrame(data=yPred)\n",
        "\n",
        "\n",
        "plot.title('Actual Data')\n",
        "plot.plot(xTest, yTest, 'r*')\n",
        "plot.show()\n",
        "\n",
        "plot.title('Predicted Data')\n",
        "plot.plot(xTest, yPred, 'r*')\n",
        "plot.show()\n",
        "\n",
        "MAE, MSE, RMSE, R2 = errCalc(xTrain, yTest, yPred)\n",
        "print(f\"Mae : {MAE}\")\n",
        "print(f\"MSE : {MSE}\")\n",
        "print(f\"RMSE : {RMSE}\")\n",
        "print(f\"R2 : {R2}\")\n"
      ],
      "metadata": {
        "colab": {
          "base_uri": "https://localhost:8080/",
          "height": 1000
        },
        "id": "rPWg3uaQbpLC",
        "outputId": "4e8472ae-a0e9-4d63-a28b-0be1c3b14fee"
      },
      "execution_count": 29,
      "outputs": [
        {
          "output_type": "stream",
          "name": "stdout",
          "text": [
            "Epoch 1/20\n",
            "750/750 [==============================] - 2s 2ms/step - loss: 55.9413\n",
            "Epoch 2/20\n",
            "750/750 [==============================] - 1s 2ms/step - loss: 16.1249\n",
            "Epoch 3/20\n",
            "750/750 [==============================] - 1s 2ms/step - loss: 3.8873\n",
            "Epoch 4/20\n",
            "750/750 [==============================] - 2s 2ms/step - loss: 0.9672\n",
            "Epoch 5/20\n",
            "750/750 [==============================] - 2s 2ms/step - loss: 0.6095\n",
            "Epoch 6/20\n",
            "750/750 [==============================] - 2s 2ms/step - loss: 0.5934\n",
            "Epoch 7/20\n",
            "750/750 [==============================] - 1s 2ms/step - loss: 0.4251\n",
            "Epoch 8/20\n",
            "750/750 [==============================] - 1s 2ms/step - loss: 0.1888\n",
            "Epoch 9/20\n",
            "750/750 [==============================] - 2s 2ms/step - loss: 0.1370\n",
            "Epoch 10/20\n",
            "750/750 [==============================] - 2s 2ms/step - loss: 0.0650\n",
            "Epoch 11/20\n",
            "750/750 [==============================] - 1s 2ms/step - loss: 0.0235\n",
            "Epoch 12/20\n",
            "750/750 [==============================] - 1s 2ms/step - loss: 0.0100\n",
            "Epoch 13/20\n",
            "750/750 [==============================] - 2s 2ms/step - loss: 0.0050\n",
            "Epoch 14/20\n",
            "750/750 [==============================] - 1s 2ms/step - loss: 0.0030\n",
            "Epoch 15/20\n",
            "750/750 [==============================] - 1s 2ms/step - loss: 0.0019\n",
            "Epoch 16/20\n",
            "750/750 [==============================] - 1s 2ms/step - loss: 0.0013\n",
            "Epoch 17/20\n",
            "750/750 [==============================] - 1s 2ms/step - loss: 0.0010\n",
            "Epoch 18/20\n",
            "750/750 [==============================] - 1s 2ms/step - loss: 7.4454e-04\n",
            "Epoch 19/20\n",
            "750/750 [==============================] - 1s 2ms/step - loss: 6.0892e-04\n",
            "Epoch 20/20\n",
            "750/750 [==============================] - 1s 2ms/step - loss: 5.5314e-04\n",
            "750/750 [==============================] - 1s 1ms/step - loss: 3.6435e-04\n",
            "750/750 [==============================] - 1s 2ms/step\n"
          ]
        },
        {
          "output_type": "display_data",
          "data": {
            "text/plain": [
              "<Figure size 432x288 with 1 Axes>"
            ],
            "image/png": "[encoded data removed]"
          },
          "metadata": {
            "needs_background": "light"
          }
        },
        {
          "output_type": "display_data",
          "data": {
            "text/plain": [
              "<Figure size 432x288 with 1 Axes>"
            ],
            "image/png": "[encoded data removed]"
          },
          "metadata": {
            "needs_background": "light"
          }
        },
        {
          "output_type": "stream",
          "name": "stdout",
          "text": [
            "Mae : 0.015467318660522198\n",
            "MSE : 0.00036435053203926496\n",
            "RMSE : 0.019087968253307237\n",
            "R2 : 0.9993679056085619\n"
          ]
        }
      ]
    },
    {
      "cell_type": "code",
      "source": [
        "#Q6: CASE 4\n",
        "xTrain = train['X']\n",
        "yTrain = train['Y']\n",
        "xTest = test['X']\n",
        "yTest = test['Y']\n",
        "xVldtn = validtn['X']\n",
        "yVldtn = validtn['Y']\n",
        "\n",
        "model = keras.Sequential([\n",
        "    keras.layers.Dense(12, activation='relu', input_shape=(1,1)),\n",
        "    keras.layers.Dense(8, activation='relu'),\n",
        "    keras.layers.Dense(4, activation='relu'),\n",
        "    keras.layers.Dense(1, activation='relu')\n",
        "])\n",
        "\n",
        "model.compile(optimizer='adam', loss='MSE')\n",
        "\n",
        "model.fit(xTrain, yTrain, epochs=20, batch_size=12)\n",
        "\n",
        "test_loss = model.evaluate(xTest, yTest)\n",
        "yPred = model.predict(xTest)\n",
        "yPred = {'yPred': yPred.reshape(len(xTest), )}\n",
        "yPred = pd.DataFrame(data=yPred)\n",
        "\n",
        "\n",
        "plot.title('Actual Data')\n",
        "plot.plot(xTest, yTest, 'r*')\n",
        "plot.show()\n",
        "\n",
        "plot.title('Predicted Data')\n",
        "plot.plot(xTest, yPred, 'r*')\n",
        "plot.show()\n",
        "\n",
        "MAE, MSE, RMSE, R2 = errCalc(xTrain, yTest, yPred)\n",
        "print(f\"Mae : {MAE}\")\n",
        "print(f\"MSE : {MSE}\")\n",
        "print(f\"RMSE : {RMSE}\")\n",
        "print(f\"R2 : {R2}\")\n"
      ],
      "metadata": {
        "colab": {
          "base_uri": "https://localhost:8080/",
          "height": 1000
        },
        "id": "Bokio9bpchXw",
        "outputId": "cb997c87-8352-4190-b180-61b5ce1a1402"
      },
      "execution_count": 31,
      "outputs": [
        {
          "output_type": "stream",
          "name": "stdout",
          "text": [
            "Epoch 1/20\n",
            "750/750 [==============================] - 2s 2ms/step - loss: 0.0222\n",
            "Epoch 2/20\n",
            "750/750 [==============================] - 2s 2ms/step - loss: 0.0060\n",
            "Epoch 3/20\n",
            "750/750 [==============================] - 2s 2ms/step - loss: 0.0060\n",
            "Epoch 4/20\n",
            "750/750 [==============================] - 1s 2ms/step - loss: 0.0060\n",
            "Epoch 5/20\n",
            "750/750 [==============================] - 1s 2ms/step - loss: 0.0059\n",
            "Epoch 6/20\n",
            "750/750 [==============================] - 1s 2ms/step - loss: 0.0059\n",
            "Epoch 7/20\n",
            "750/750 [==============================] - 1s 2ms/step - loss: 0.0058\n",
            "Epoch 8/20\n",
            "750/750 [==============================] - 1s 2ms/step - loss: 0.0058\n",
            "Epoch 9/20\n",
            "750/750 [==============================] - 1s 2ms/step - loss: 0.0057\n",
            "Epoch 10/20\n",
            "750/750 [==============================] - 1s 2ms/step - loss: 0.0057\n",
            "Epoch 11/20\n",
            "750/750 [==============================] - 1s 2ms/step - loss: 0.0056\n",
            "Epoch 12/20\n",
            "750/750 [==============================] - 2s 2ms/step - loss: 0.0056\n",
            "Epoch 13/20\n",
            "750/750 [==============================] - 2s 2ms/step - loss: 0.0055\n",
            "Epoch 14/20\n",
            "750/750 [==============================] - 1s 2ms/step - loss: 0.0055\n",
            "Epoch 15/20\n",
            "750/750 [==============================] - 1s 2ms/step - loss: 0.0054\n",
            "Epoch 16/20\n",
            "750/750 [==============================] - 1s 2ms/step - loss: 0.0054\n",
            "Epoch 17/20\n",
            "750/750 [==============================] - 1s 2ms/step - loss: 0.0050\n",
            "Epoch 18/20\n",
            "750/750 [==============================] - 1s 2ms/step - loss: 0.0050\n",
            "Epoch 19/20\n",
            "750/750 [==============================] - 1s 2ms/step - loss: 0.0050\n",
            "Epoch 20/20\n",
            "750/750 [==============================] - 1s 2ms/step - loss: 0.0050\n",
            "188/188 [==============================] - 0s 1ms/step - loss: 0.0050\n",
            "188/188 [==============================] - 0s 1ms/step\n"
          ]
        },
        {
          "output_type": "display_data",
          "data": {
            "text/plain": [
              "<Figure size 432x288 with 1 Axes>"
            ],
            "image/png": "[encoded data removed]"
          },
          "metadata": {
            "needs_background": "light"
          }
        },
        {
          "output_type": "display_data",
          "data": {
            "text/plain": [
              "<Figure size 432x288 with 1 Axes>"
            ],
            "image/png": "[encoded data removed]"
          },
          "metadata": {
            "needs_background": "light"
          }
        },
        {
          "output_type": "stream",
          "name": "stdout",
          "text": [
            "Mae : 0.053546226059854214\n",
            "MSE : 0.004957833018194075\n",
            "RMSE : 0.07041188122890962\n",
            "R2 : 0.867362037994108\n"
          ]
        }
      ]
    },
    {
      "cell_type": "code",
      "source": [
        "#Q6: CASE 5\n",
        "xTrain = train['X']\n",
        "yTrain = train['Y']\n",
        "xTest = test['X']\n",
        "yTest = test['Y']\n",
        "xVldtn = validtn['X']\n",
        "yVldtn = validtn['Y']\n",
        "\n",
        "model = keras.Sequential([\n",
        "    keras.layers.Dense(12, activation='tanh', input_shape=(1,1)),\n",
        "    keras.layers.Dense(8, activation='tanh'),\n",
        "    keras.layers.Dense(4, activation='tanh'),\n",
        "    keras.layers.Dense(1, activation='tanh')\n",
        "])\n",
        "\n",
        "model.compile(optimizer='adam', loss='MSE')\n",
        "\n",
        "model.fit(xTrain, yTrain, epochs=20, batch_size=12)\n",
        "\n",
        "test_loss = model.evaluate(xTest, yTest)\n",
        "yPred = model.predict(xTest)\n",
        "yPred = {'yPred': yPred.reshape(len(xTest), )}\n",
        "yPred = pd.DataFrame(data=yPred)\n",
        "\n",
        "\n",
        "plot.title('Actual Data')\n",
        "plot.plot(xTest, yTest, 'r*')\n",
        "plot.show()\n",
        "\n",
        "plot.title('Predicted Data')\n",
        "plot.plot(xTest, yPred, 'r*')\n",
        "plot.show()\n",
        "\n",
        "MAE, MSE, RMSE, R2 = errCalc(xTrain, yTest, yPred)\n",
        "print(f\"Mae : {MAE}\")\n",
        "print(f\"MSE : {MSE}\")\n",
        "print(f\"RMSE : {RMSE}\")\n",
        "print(f\"R2 : {R2}\")\n"
      ],
      "metadata": {
        "colab": {
          "base_uri": "https://localhost:8080/",
          "height": 1000
        },
        "id": "43DJEyjVc_A9",
        "outputId": "fc7bf2e9-148f-49ec-8923-7fcc9ed5a036"
      },
      "execution_count": 33,
      "outputs": [
        {
          "output_type": "stream",
          "name": "stdout",
          "text": [
            "Epoch 1/20\n",
            "750/750 [==============================] - 2s 2ms/step - loss: 0.0102\n",
            "Epoch 2/20\n",
            "750/750 [==============================] - 1s 2ms/step - loss: 0.0076\n",
            "Epoch 3/20\n",
            "750/750 [==============================] - 1s 2ms/step - loss: 0.0075\n",
            "Epoch 4/20\n",
            "750/750 [==============================] - 1s 2ms/step - loss: 0.0074\n",
            "Epoch 5/20\n",
            "750/750 [==============================] - 1s 2ms/step - loss: 0.0072\n",
            "Epoch 6/20\n",
            "750/750 [==============================] - 1s 2ms/step - loss: 0.0068\n",
            "Epoch 7/20\n",
            "750/750 [==============================] - 2s 2ms/step - loss: 0.0045\n",
            "Epoch 8/20\n",
            "750/750 [==============================] - 2s 2ms/step - loss: 0.0015\n",
            "Epoch 9/20\n",
            "750/750 [==============================] - 2s 2ms/step - loss: 0.0011\n",
            "Epoch 10/20\n",
            "750/750 [==============================] - 1s 2ms/step - loss: 8.8175e-04\n",
            "Epoch 11/20\n",
            "750/750 [==============================] - 1s 2ms/step - loss: 7.4694e-04\n",
            "Epoch 12/20\n",
            "750/750 [==============================] - 1s 2ms/step - loss: 6.5561e-04\n",
            "Epoch 13/20\n",
            "750/750 [==============================] - 2s 2ms/step - loss: 5.9625e-04\n",
            "Epoch 14/20\n",
            "750/750 [==============================] - 1s 2ms/step - loss: 5.3457e-04\n",
            "Epoch 15/20\n",
            "750/750 [==============================] - 2s 3ms/step - loss: 4.7117e-04\n",
            "Epoch 16/20\n",
            "750/750 [==============================] - 2s 3ms/step - loss: 4.2000e-04\n",
            "Epoch 17/20\n",
            "750/750 [==============================] - 2s 2ms/step - loss: 3.7682e-04\n",
            "Epoch 18/20\n",
            "750/750 [==============================] - 1s 2ms/step - loss: 3.2608e-04\n",
            "Epoch 19/20\n",
            "750/750 [==============================] - 1s 2ms/step - loss: 2.8402e-04\n",
            "Epoch 20/20\n",
            "750/750 [==============================] - 1s 2ms/step - loss: 2.3826e-04\n",
            "188/188 [==============================] - 0s 1ms/step - loss: 1.8027e-04\n",
            "188/188 [==============================] - 1s 2ms/step\n"
          ]
        },
        {
          "output_type": "display_data",
          "data": {
            "text/plain": [
              "<Figure size 432x288 with 1 Axes>"
            ],
            "image/png": "[encoded data removed]"
          },
          "metadata": {
            "needs_background": "light"
          }
        },
        {
          "output_type": "display_data",
          "data": {
            "text/plain": [
              "<Figure size 432x288 with 1 Axes>"
            ],
            "image/png": "[encoded data removed]"
          },
          "metadata": {
            "needs_background": "light"
          }
        },
        {
          "output_type": "stream",
          "name": "stdout",
          "text": [
            "Mae : 0.009192229812014303\n",
            "MSE : 0.00018027039900982416\n",
            "RMSE : 0.01342648125942997\n",
            "R2 : 0.9951771876449035\n"
          ]
        }
      ]
    },
    {
      "cell_type": "code",
      "source": [
        "X = np.linspace(-1, 1, 30000)\n",
        "Y = 0.2 * X ** 4 + 2 * X ** 3 +0.1 ** 2 + 10\n",
        "\n",
        "d = { 'X': X, 'Y': Y}\n",
        "df = pd.DataFrame(data=d)\n",
        "\n",
        "#data split - unshuffled\n",
        "training, testing, validation = Data_Split(0.3, 0.2, 0.5, df)\n",
        "\n",
        "#scaling - unshuffled\n",
        "train, test, validtn = Scale_Data(training, validation, testing)"
      ],
      "metadata": {
        "id": "Bf1jVOi8fCZq"
      },
      "execution_count": 50,
      "outputs": []
    },
    {
      "cell_type": "code",
      "source": [
        "#Q6: CASE 1 - unshuffled\n",
        "xTrain = training['X']\n",
        "yTrain = training['Y']\n",
        "xTest = testing['X']\n",
        "yTest = testing['Y']\n",
        "xVldtn = validation['X']\n",
        "yVldtn = validation['Y']\n",
        "\n",
        "model = keras.Sequential([\n",
        "    keras.layers.Dense(12, activation='relu', input_shape=(1,1)),\n",
        "    keras.layers.Dense(8, activation='relu'),\n",
        "    keras.layers.Dense(4, activation='relu'),\n",
        "    keras.layers.Dense(1, activation='linear')\n",
        "                          ])\n",
        "\n",
        "model.compile(optimizer='adam', loss='MSE')\n",
        "\n",
        "model.fit(xTrain, yTrain, epochs=20, batch_size=12)\n",
        "\n",
        "test_loss = model.evaluate(xTest, yTest)\n",
        "yPred = model.predict(xTest)\n",
        "yPred = {'yPred': yPred.reshape(len(xTest), )}\n",
        "yPred = pd.DataFrame(data=yPred)\n",
        "\n",
        "\n",
        "plot.title('Actual Data')\n",
        "plot.plot(xTest, yTest, 'r*')\n",
        "plot.show()\n",
        "\n",
        "plot.title('Predicted Data')\n",
        "plot.plot(xTest, yPred, 'r*')\n",
        "plot.show()\n",
        "\n",
        "MAE, MSE, RMSE, R2 = errCalc(xTrain, yTest, yPred)\n",
        "print(f\"Mae : {MAE}\")\n",
        "print(f\"MSE : {MSE}\")\n",
        "print(f\"RMSE : {RMSE}\")\n",
        "print(f\"R2 : {R2}\")\n"
      ],
      "metadata": {
        "colab": {
          "base_uri": "https://localhost:8080/",
          "height": 1000
        },
        "id": "qOlrx5HhdZ1n",
        "outputId": "cc7e0024-4609-43f0-ad01-c6cbc52f87cb"
      },
      "execution_count": 53,
      "outputs": [
        {
          "output_type": "stream",
          "name": "stdout",
          "text": [
            "Epoch 1/20\n",
            "750/750 [==============================] - 3s 2ms/step - loss: 34.7029\n",
            "Epoch 2/20\n",
            "750/750 [==============================] - 1s 2ms/step - loss: 1.3856\n",
            "Epoch 3/20\n",
            "750/750 [==============================] - 1s 2ms/step - loss: 0.9927\n",
            "Epoch 4/20\n",
            "750/750 [==============================] - 1s 2ms/step - loss: 0.6501\n",
            "Epoch 5/20\n",
            "750/750 [==============================] - 1s 2ms/step - loss: 0.4124\n",
            "Epoch 6/20\n",
            "750/750 [==============================] - 1s 2ms/step - loss: 0.2562\n",
            "Epoch 7/20\n",
            "750/750 [==============================] - 1s 2ms/step - loss: 0.1103\n",
            "Epoch 8/20\n",
            "750/750 [==============================] - 1s 2ms/step - loss: 0.0145\n",
            "Epoch 9/20\n",
            "750/750 [==============================] - 1s 2ms/step - loss: 0.0072\n",
            "Epoch 10/20\n",
            "750/750 [==============================] - 2s 2ms/step - loss: 0.0068\n",
            "Epoch 11/20\n",
            "750/750 [==============================] - 1s 2ms/step - loss: 0.0064\n",
            "Epoch 12/20\n",
            "750/750 [==============================] - 1s 2ms/step - loss: 0.0058\n",
            "Epoch 13/20\n",
            "750/750 [==============================] - 1s 2ms/step - loss: 0.0051\n",
            "Epoch 14/20\n",
            "750/750 [==============================] - 1s 2ms/step - loss: 0.0030\n",
            "Epoch 15/20\n",
            "750/750 [==============================] - 1s 2ms/step - loss: 4.7106e-04\n",
            "Epoch 16/20\n",
            "750/750 [==============================] - 1s 2ms/step - loss: 2.2864e-04\n",
            "Epoch 17/20\n",
            "750/750 [==============================] - 1s 2ms/step - loss: 1.5620e-04\n",
            "Epoch 18/20\n",
            "750/750 [==============================] - 1s 2ms/step - loss: 1.4302e-04\n",
            "Epoch 19/20\n",
            "750/750 [==============================] - 1s 2ms/step - loss: 1.1900e-04\n",
            "Epoch 20/20\n",
            "750/750 [==============================] - 2s 2ms/step - loss: 1.0925e-04\n",
            "750/750 [==============================] - 1s 1ms/step - loss: 0.1057\n",
            "750/750 [==============================] - 1s 1ms/step\n"
          ]
        },
        {
          "output_type": "display_data",
          "data": {
            "text/plain": [
              "<Figure size 432x288 with 1 Axes>"
            ],
            "image/png": "[encoded data removed]"
          },
          "metadata": {
            "needs_background": "light"
          }
        },
        {
          "output_type": "display_data",
          "data": {
            "text/plain": [
              "<Figure size 432x288 with 1 Axes>"
            ],
            "image/png": "[encoded data removed]"
          },
          "metadata": {
            "needs_background": "light"
          }
        },
        {
          "output_type": "stream",
          "name": "stdout",
          "text": [
            "Mae : 0.230589357099311\n",
            "MSE : 0.1057284831486529\n",
            "RMSE : 0.32515916586904464\n",
            "R2 : 0.574519450472192\n"
          ]
        }
      ]
    },
    {
      "cell_type": "code",
      "source": [
        "#Q6: CASE 2 - unshuffled\n",
        "\n",
        "model = keras.Sequential([\n",
        "    keras.layers.Dense(24, activation='relu', input_shape=(1,1)),\n",
        "    keras.layers.Dense(1, activation='relu'),\n",
        "])\n",
        "\n",
        "model.compile(optimizer='adam', loss='MSE')\n",
        "\n",
        "model.fit(xTrain, yTrain, epochs=20, batch_size=12)\n",
        "\n",
        "test_loss = model.evaluate(xTest, yTest)\n",
        "yPred = model.predict(xTest)\n",
        "yPred = {'yPred': yPred.reshape(len(xTest), )}\n",
        "yPred = pd.DataFrame(data=yPred)\n",
        "\n",
        "\n",
        "plot.title('Actual Data')\n",
        "plot.plot(xTest, yTest, 'r*')\n",
        "plot.show()\n",
        "\n",
        "plot.title('Predicted Data')\n",
        "plot.plot(xTest, yPred, 'r*')\n",
        "plot.show()\n",
        "\n",
        "MAE, MSE, RMSE, R2 = errCalc(xTrain, yTest, yPred)\n",
        "print(f\"Mae : {MAE}\")\n",
        "print(f\"MSE : {MSE}\")\n",
        "print(f\"RMSE : {RMSE}\")\n",
        "print(f\"R2 : {R2}\")\n"
      ],
      "metadata": {
        "colab": {
          "base_uri": "https://localhost:8080/",
          "height": 1000
        },
        "id": "hs8a-7iPgFRC",
        "outputId": "5ee82835-d0bf-4deb-edb5-3c79930909e2"
      },
      "execution_count": 55,
      "outputs": [
        {
          "output_type": "stream",
          "name": "stdout",
          "text": [
            "Epoch 1/20\n",
            "750/750 [==============================] - 1s 1ms/step - loss: 31.6465\n",
            "Epoch 2/20\n",
            "750/750 [==============================] - 1s 1ms/step - loss: 2.1140\n",
            "Epoch 3/20\n",
            "750/750 [==============================] - 1s 1ms/step - loss: 1.6860\n",
            "Epoch 4/20\n",
            "750/750 [==============================] - 1s 1ms/step - loss: 1.1761\n",
            "Epoch 5/20\n",
            "750/750 [==============================] - 1s 1ms/step - loss: 0.6295\n",
            "Epoch 6/20\n",
            "750/750 [==============================] - 1s 1ms/step - loss: 0.2073\n",
            "Epoch 7/20\n",
            "750/750 [==============================] - 1s 1ms/step - loss: 0.0368\n",
            "Epoch 8/20\n",
            "750/750 [==============================] - 1s 1ms/step - loss: 0.0100\n",
            "Epoch 9/20\n",
            "750/750 [==============================] - 1s 1ms/step - loss: 0.0063\n",
            "Epoch 10/20\n",
            "750/750 [==============================] - 2s 2ms/step - loss: 0.0040\n",
            "Epoch 11/20\n",
            "750/750 [==============================] - 1s 2ms/step - loss: 0.0031\n",
            "Epoch 12/20\n",
            "750/750 [==============================] - 1s 1ms/step - loss: 0.0027\n",
            "Epoch 13/20\n",
            "750/750 [==============================] - 1s 1ms/step - loss: 0.0024\n",
            "Epoch 14/20\n",
            "750/750 [==============================] - 1s 1ms/step - loss: 0.0020\n",
            "Epoch 15/20\n",
            "750/750 [==============================] - 1s 1ms/step - loss: 0.0016\n",
            "Epoch 16/20\n",
            "750/750 [==============================] - 1s 1ms/step - loss: 0.0011\n",
            "Epoch 17/20\n",
            "750/750 [==============================] - 1s 1ms/step - loss: 7.7724e-04\n",
            "Epoch 18/20\n",
            "750/750 [==============================] - 1s 1ms/step - loss: 6.4322e-04\n",
            "Epoch 19/20\n",
            "750/750 [==============================] - 1s 1ms/step - loss: 6.2611e-04\n",
            "Epoch 20/20\n",
            "750/750 [==============================] - 1s 2ms/step - loss: 6.3978e-04\n",
            "750/750 [==============================] - 1s 1ms/step - loss: 0.3797\n",
            "750/750 [==============================] - 1s 1ms/step\n"
          ]
        },
        {
          "output_type": "display_data",
          "data": {
            "text/plain": [
              "<Figure size 432x288 with 1 Axes>"
            ],
            "image/png": "[encoded data removed]"
          },
          "metadata": {
            "needs_background": "light"
          }
        },
        {
          "output_type": "display_data",
          "data": {
            "text/plain": [
              "<Figure size 432x288 with 1 Axes>"
            ],
            "image/png": "[encoded data removed]"
          },
          "metadata": {
            "needs_background": "light"
          }
        },
        {
          "output_type": "stream",
          "name": "stdout",
          "text": [
            "Mae : 0.4441436467161725\n",
            "MSE : 0.37971008759883407\n",
            "RMSE : 0.6162062054205832\n",
            "R2 : -0.5280580210883552\n"
          ]
        }
      ]
    },
    {
      "cell_type": "code",
      "source": [
        "#Q6: CASE 3 - unshuffled\n",
        "model = keras.Sequential([\n",
        "    keras.layers.Dense(12, activation='tanh', input_shape=(1,1)),\n",
        "    keras.layers.Dense(8, activation='tanh'),\n",
        "    keras.layers.Dense(4, activation='tanh'),\n",
        "    keras.layers.Dense(1, activation='linear')\n",
        "])\n",
        "\n",
        "model.compile(optimizer='adam', loss='MSE')\n",
        "\n",
        "model.fit(xTrain, yTrain, epochs=20, batch_size=12)\n",
        "\n",
        "test_loss = model.evaluate(xTest, yTest)\n",
        "yPred = model.predict(xTest)\n",
        "yPred = {'yPred': yPred.reshape(len(xTest), )}\n",
        "yPred = pd.DataFrame(data=yPred)\n",
        "\n",
        "\n",
        "plot.title('Actual Data')\n",
        "plot.plot(xTest, yTest, 'r*')\n",
        "plot.show()\n",
        "\n",
        "plot.title('Predicted Data')\n",
        "plot.plot(xTest, yPred, 'r*')\n",
        "plot.show()\n",
        "\n",
        "MAE, MSE, RMSE, R2 = errCalc(xTrain, yTest, yPred)\n",
        "print(f\"Mae : {MAE}\")\n",
        "print(f\"MSE : {MSE}\")\n",
        "print(f\"RMSE : {RMSE}\")\n",
        "print(f\"R2 : {R2}\")\n"
      ],
      "metadata": {
        "colab": {
          "base_uri": "https://localhost:8080/",
          "height": 1000
        },
        "id": "9CG3IapXgJGl",
        "outputId": "38b0133a-bfdd-40cd-b9cb-0254024f4799"
      },
      "execution_count": 60,
      "outputs": [
        {
          "output_type": "stream",
          "name": "stdout",
          "text": [
            "Epoch 1/20\n",
            "750/750 [==============================] - 2s 2ms/step - loss: 0.0235\n",
            "Epoch 2/20\n",
            "750/750 [==============================] - 1s 2ms/step - loss: 5.1610e-05\n",
            "Epoch 3/20\n",
            "750/750 [==============================] - 1s 2ms/step - loss: 2.6933e-05\n",
            "Epoch 4/20\n",
            "750/750 [==============================] - 1s 2ms/step - loss: 2.3239e-05\n",
            "Epoch 5/20\n",
            "750/750 [==============================] - 1s 2ms/step - loss: 2.0855e-05\n",
            "Epoch 6/20\n",
            "750/750 [==============================] - 1s 2ms/step - loss: 1.7854e-05\n",
            "Epoch 7/20\n",
            "750/750 [==============================] - 1s 2ms/step - loss: 1.4491e-05\n",
            "Epoch 8/20\n",
            "750/750 [==============================] - 2s 2ms/step - loss: 1.0409e-05\n",
            "Epoch 9/20\n",
            "750/750 [==============================] - 1s 2ms/step - loss: 6.2707e-06\n",
            "Epoch 10/20\n",
            "750/750 [==============================] - 1s 2ms/step - loss: 3.8991e-06\n",
            "Epoch 11/20\n",
            "750/750 [==============================] - 1s 2ms/step - loss: 3.6902e-06\n",
            "Epoch 12/20\n",
            "750/750 [==============================] - 1s 2ms/step - loss: 3.6621e-06\n",
            "Epoch 13/20\n",
            "750/750 [==============================] - 1s 2ms/step - loss: 2.9498e-06\n",
            "Epoch 14/20\n",
            "750/750 [==============================] - 1s 2ms/step - loss: 3.1229e-06\n",
            "Epoch 15/20\n",
            "750/750 [==============================] - 1s 2ms/step - loss: 3.4389e-06\n",
            "Epoch 16/20\n",
            "750/750 [==============================] - 1s 2ms/step - loss: 2.1531e-06\n",
            "Epoch 17/20\n",
            "750/750 [==============================] - 2s 2ms/step - loss: 2.0300e-06\n",
            "Epoch 18/20\n",
            "750/750 [==============================] - 2s 2ms/step - loss: 1.6589e-06\n",
            "Epoch 19/20\n",
            "750/750 [==============================] - 1s 2ms/step - loss: 1.0841e-06\n",
            "Epoch 20/20\n",
            "750/750 [==============================] - 1s 2ms/step - loss: 9.2440e-07\n",
            "188/188 [==============================] - 0s 1ms/step - loss: 0.0034\n",
            "188/188 [==============================] - 0s 1ms/step\n"
          ]
        },
        {
          "output_type": "display_data",
          "data": {
            "text/plain": [
              "<Figure size 432x288 with 1 Axes>"
            ],
            "image/png": "[encoded data removed]"
          },
          "metadata": {
            "needs_background": "light"
          }
        },
        {
          "output_type": "display_data",
          "data": {
            "text/plain": [
              "<Figure size 432x288 with 1 Axes>"
            ],
            "image/png": "[encoded data removed]"
          },
          "metadata": {
            "needs_background": "light"
          }
        },
        {
          "output_type": "stream",
          "name": "stdout",
          "text": [
            "Mae : 0.05297685449226954\n",
            "MSE : 0.003359014862579091\n",
            "RMSE : 0.05795700874423292\n",
            "R2 : 0.9597780045871123\n"
          ]
        }
      ]
    },
    {
      "cell_type": "code",
      "source": [
        "#Q6: CASE 4 - unshuffled\n",
        "xTrain = train['X']\n",
        "yTrain = train['Y']\n",
        "xTest = test['X']\n",
        "yTest = test['Y']\n",
        "xVldtn = validtn['X']\n",
        "yVldtn = validtn['Y']\n",
        "\n",
        "model = keras.Sequential([\n",
        "    keras.layers.Dense(12, activation='relu', input_shape=(1,1)),\n",
        "    keras.layers.Dense(8, activation='relu'),\n",
        "    keras.layers.Dense(4, activation='relu'),\n",
        "    keras.layers.Dense(1, activation='relu')\n",
        "])\n",
        "\n",
        "model.compile(optimizer='adam', loss='MSE')\n",
        "\n",
        "model.fit(xTrain, yTrain, epochs=20, batch_size=12)\n",
        "\n",
        "test_loss = model.evaluate(xTest, yTest)\n",
        "yPred = model.predict(xTest)\n",
        "yPred = {'yPred': yPred.reshape(len(xTest), )}\n",
        "yPred = pd.DataFrame(data=yPred)\n",
        "\n",
        "\n",
        "plot.title('Actual Data')\n",
        "plot.plot(xTest, yTest, 'r*')\n",
        "plot.show()\n",
        "\n",
        "plot.title('Predicted Data')\n",
        "plot.plot(xTest, yPred, 'r*')\n",
        "plot.show()\n",
        "\n",
        "MAE, MSE, RMSE, R2 = errCalc(xTrain, yTest, yPred)\n",
        "print(f\"Mae : {MAE}\")\n",
        "print(f\"MSE : {MSE}\")\n",
        "print(f\"RMSE : {RMSE}\")\n",
        "print(f\"R2 : {R2}\")\n"
      ],
      "metadata": {
        "colab": {
          "base_uri": "https://localhost:8080/",
          "height": 1000
        },
        "id": "UohRWouUgKlH",
        "outputId": "4582e950-9a2b-41de-954c-2bec3815f786"
      },
      "execution_count": 57,
      "outputs": [
        {
          "output_type": "stream",
          "name": "stdout",
          "text": [
            "Epoch 1/20\n",
            "750/750 [==============================] - 2s 2ms/step - loss: 0.0274\n",
            "Epoch 2/20\n",
            "750/750 [==============================] - 1s 2ms/step - loss: 0.0028\n",
            "Epoch 3/20\n",
            "750/750 [==============================] - 1s 2ms/step - loss: 0.0020\n",
            "Epoch 4/20\n",
            "750/750 [==============================] - 1s 2ms/step - loss: 4.7357e-04\n",
            "Epoch 5/20\n",
            "750/750 [==============================] - 1s 2ms/step - loss: 4.2975e-05\n",
            "Epoch 6/20\n",
            "750/750 [==============================] - 2s 2ms/step - loss: 2.9582e-05\n",
            "Epoch 7/20\n",
            "750/750 [==============================] - 1s 2ms/step - loss: 2.2679e-05\n",
            "Epoch 8/20\n",
            "750/750 [==============================] - 1s 2ms/step - loss: 2.0219e-05\n",
            "Epoch 9/20\n",
            "750/750 [==============================] - 1s 2ms/step - loss: 2.0405e-05\n",
            "Epoch 10/20\n",
            "750/750 [==============================] - 1s 2ms/step - loss: 1.9168e-05\n",
            "Epoch 11/20\n",
            "750/750 [==============================] - 1s 2ms/step - loss: 2.1987e-05\n",
            "Epoch 12/20\n",
            "750/750 [==============================] - 1s 2ms/step - loss: 1.8829e-05\n",
            "Epoch 13/20\n",
            "750/750 [==============================] - 1s 2ms/step - loss: 1.9474e-05\n",
            "Epoch 14/20\n",
            "750/750 [==============================] - 1s 2ms/step - loss: 2.0036e-05\n",
            "Epoch 15/20\n",
            "750/750 [==============================] - 2s 2ms/step - loss: 1.9253e-05\n",
            "Epoch 16/20\n",
            "750/750 [==============================] - 2s 2ms/step - loss: 1.9205e-05\n",
            "Epoch 17/20\n",
            "750/750 [==============================] - 1s 2ms/step - loss: 1.8926e-05\n",
            "Epoch 18/20\n",
            "750/750 [==============================] - 1s 2ms/step - loss: 1.9405e-05\n",
            "Epoch 19/20\n",
            "750/750 [==============================] - 1s 2ms/step - loss: 2.1428e-05\n",
            "Epoch 20/20\n",
            "750/750 [==============================] - 1s 2ms/step - loss: 1.8851e-05\n",
            "188/188 [==============================] - 0s 1ms/step - loss: 0.0034\n",
            "188/188 [==============================] - 0s 1ms/step\n"
          ]
        },
        {
          "output_type": "display_data",
          "data": {
            "text/plain": [
              "<Figure size 432x288 with 1 Axes>"
            ],
            "image/png": "[encoded data removed]"
          },
          "metadata": {
            "needs_background": "light"
          }
        },
        {
          "output_type": "display_data",
          "data": {
            "text/plain": [
              "<Figure size 432x288 with 1 Axes>"
            ],
            "image/png": "[encoded data removed]"
          },
          "metadata": {
            "needs_background": "light"
          }
        },
        {
          "output_type": "stream",
          "name": "stdout",
          "text": [
            "Mae : 0.05405750895211978\n",
            "MSE : 0.0034410968890579018\n",
            "RMSE : 0.05866086335077163\n",
            "R2 : 0.9587951262648722\n"
          ]
        }
      ]
    },
    {
      "cell_type": "code",
      "source": [
        "#Q6: CASE 5 - unshuffled\n",
        "xTrain = train['X']\n",
        "yTrain = train['Y']\n",
        "xTest = test['X']\n",
        "yTest = test['Y']\n",
        "xVldtn = validtn['X']\n",
        "yVldtn = validtn['Y']\n",
        "\n",
        "model = keras.Sequential([\n",
        "    keras.layers.Dense(12, activation='tanh', input_shape=(1,1)),\n",
        "    keras.layers.Dense(8, activation='tanh'),\n",
        "    keras.layers.Dense(4, activation='tanh'),\n",
        "    keras.layers.Dense(1, activation='tanh')\n",
        "])\n",
        "\n",
        "model.compile(optimizer='adam', loss='MSE')\n",
        "\n",
        "model.fit(xTrain, yTrain, epochs=20, batch_size=12)\n",
        "\n",
        "test_loss = model.evaluate(xTest, yTest)\n",
        "yPred = model.predict(xTest)\n",
        "yPred = {'yPred': yPred.reshape(len(xTest), )}\n",
        "yPred = pd.DataFrame(data=yPred)\n",
        "\n",
        "\n",
        "plot.title('Actual Data')\n",
        "plot.plot(xTest, yTest, 'r*')\n",
        "plot.show()\n",
        "\n",
        "plot.title('Predicted Data')\n",
        "plot.plot(xTest, yPred, 'r*')\n",
        "plot.show()\n",
        "\n",
        "MAE, MSE, RMSE, R2 = errCalc(xTrain, yTest, yPred)\n",
        "print(f\"Mae : {MAE}\")\n",
        "print(f\"MSE : {MSE}\")\n",
        "print(f\"RMSE : {RMSE}\")\n",
        "print(f\"R2 : {R2}\")\n"
      ],
      "metadata": {
        "colab": {
          "base_uri": "https://localhost:8080/",
          "height": 1000
        },
        "id": "Sq52lnhhgN15",
        "outputId": "de40e993-5407-47e0-8d96-3c2ebdbf4e1c"
      },
      "execution_count": 58,
      "outputs": [
        {
          "output_type": "stream",
          "name": "stdout",
          "text": [
            "Epoch 1/20\n",
            "750/750 [==============================] - 2s 2ms/step - loss: 0.0641\n",
            "Epoch 2/20\n",
            "750/750 [==============================] - 1s 2ms/step - loss: 0.0032\n",
            "Epoch 3/20\n",
            "750/750 [==============================] - 2s 2ms/step - loss: 0.0018\n",
            "Epoch 4/20\n",
            "750/750 [==============================] - 2s 2ms/step - loss: 7.7449e-04\n",
            "Epoch 5/20\n",
            "750/750 [==============================] - 1s 2ms/step - loss: 3.3693e-04\n",
            "Epoch 6/20\n",
            "750/750 [==============================] - 1s 2ms/step - loss: 1.6780e-04\n",
            "Epoch 7/20\n",
            "750/750 [==============================] - 1s 2ms/step - loss: 9.4002e-05\n",
            "Epoch 8/20\n",
            "750/750 [==============================] - 1s 2ms/step - loss: 6.6268e-05\n",
            "Epoch 9/20\n",
            "750/750 [==============================] - 1s 2ms/step - loss: 5.0428e-05\n",
            "Epoch 10/20\n",
            "750/750 [==============================] - 1s 2ms/step - loss: 3.8885e-05\n",
            "Epoch 11/20\n",
            "750/750 [==============================] - 1s 2ms/step - loss: 3.0573e-05\n",
            "Epoch 12/20\n",
            "750/750 [==============================] - 1s 2ms/step - loss: 2.6637e-05\n",
            "Epoch 13/20\n",
            "750/750 [==============================] - 2s 2ms/step - loss: 2.2695e-05\n",
            "Epoch 14/20\n",
            "750/750 [==============================] - 1s 2ms/step - loss: 1.9046e-05\n",
            "Epoch 15/20\n",
            "750/750 [==============================] - 1s 2ms/step - loss: 1.8119e-05\n",
            "Epoch 16/20\n",
            "750/750 [==============================] - 1s 2ms/step - loss: 1.4772e-05\n",
            "Epoch 17/20\n",
            "750/750 [==============================] - 1s 2ms/step - loss: 1.2184e-05\n",
            "Epoch 18/20\n",
            "750/750 [==============================] - 1s 2ms/step - loss: 9.8353e-06\n",
            "Epoch 19/20\n",
            "750/750 [==============================] - 1s 2ms/step - loss: 7.3054e-06\n",
            "Epoch 20/20\n",
            "750/750 [==============================] - 1s 2ms/step - loss: 5.7612e-06\n",
            "188/188 [==============================] - 0s 1ms/step - loss: 0.0032\n",
            "188/188 [==============================] - 0s 1ms/step\n"
          ]
        },
        {
          "output_type": "display_data",
          "data": {
            "text/plain": [
              "<Figure size 432x288 with 1 Axes>"
            ],
            "image/png": "[encoded data removed]"
          },
          "metadata": {
            "needs_background": "light"
          }
        },
        {
          "output_type": "display_data",
          "data": {
            "text/plain": [
              "<Figure size 432x288 with 1 Axes>"
            ],
            "image/png": "[encoded data removed]"
          },
          "metadata": {
            "needs_background": "light"
          }
        },
        {
          "output_type": "stream",
          "name": "stdout",
          "text": [
            "Mae : 0.051373007790999604\n",
            "MSE : 0.0031643384962858423\n",
            "RMSE : 0.05625245324682153\n",
            "R2 : 0.962109126130895\n"
          ]
        }
      ]
    },
    {
      "cell_type": "code",
      "source": [
        "#Q6: XOR NN\n",
        "print(\"Assumptions: Epochs = 2500, learning rate = 0.2, hidden layers =1, 4 neuronsd fully connected, and 1 output\")\n",
        "\n",
        "X = np.array([[0,0], [0,1], [1,0], [1,1]])\n",
        "Y = np.array([[0], [1], [1], [0]])\n",
        "\n",
        "def sigm(x):\n",
        "  return (1/(1+np.exp(-x)))\n",
        "\n",
        "def sigmDeriv(x):\n",
        "  return(x*(1-x))\n",
        "\n",
        "epochs = 2500\n",
        "LR = 0.2\n",
        "iN = 2\n",
        "hN = 4\n",
        "oN = 1\n",
        "\n",
        "inpWeights = np.array([[0.698, 0.689, 0.169, 0.821], [0.169, 0.161, 0.634, 0.292]])\n",
        "hiddWeights = np.array([[0.945], [0.250], [0.435], [0.191]])\n",
        "\n",
        "inpBias = np.random.uniform(size=(1, hN))\n",
        "hiddBias = np.array([[0.28414861]])\n",
        "\n",
        "for i in range(epochs):\n",
        "  hiddLayerActivtn = sigm(np.dot(X, inpWeights) + inpBias)\n",
        "  outpLayerActivtn = sigm(np.dot(hiddLayerActivtn, hiddWeights))\n",
        "\n",
        "  error = Y - outpLayerActivtn\n",
        "  outpLayerDeriv = sigmDeriv(outpLayerActivtn)\n",
        "  hiddLayerDeriv = sigmDeriv(hiddLayerActivtn)\n",
        "  outpLayerErr = error * outpLayerDeriv\n",
        "  hiddLayerErr = np.dot(outpLayerErr, hiddWeights.T) * hiddLayerDeriv\n",
        "\n",
        "  hiddWeights += np.dot(hiddLayerActivtn.T, outpLayerErr) * LR\n",
        "  inpWeights += np.dot(X.T, hiddLayerErr) * LR\n",
        "  hiddBias += np.sum(outpLayerErr, axis=0, keepdims=True) * LR\n",
        "  inpBias += np.sum(hiddLayerErr, axis=0, keepdims=True) * LR\n",
        "\n",
        "hiddLayerActivtn = sigm(np.dot(X, inpWeights) + inpBias)\n",
        "outpLayerActivtn = sigm(np.dot(hiddLayerActivtn, hiddWeights) + hiddBias)\n",
        "print(\"Predictions:\", outpLayerActivtn)\n",
        "\n",
        "print(\"if pred < 0.2 THEN assummption = 0, else pred = 1\")"
      ],
      "metadata": {
        "colab": {
          "base_uri": "https://localhost:8080/"
        },
        "id": "e_JLD_l3h6bW",
        "outputId": "ded95f97-29f4-402f-eff8-3939598be7cd"
      },
      "execution_count": 80,
      "outputs": [
        {
          "output_type": "stream",
          "name": "stdout",
          "text": [
            "Assumptions: Epochs = 2500, learning rate = 0.2, hidden layers =1, 4 neuronsd fully connected, and 1 output\n",
            "Predictions: [[0.07586555]\n",
            " [0.71693166]\n",
            " [0.72216769]\n",
            " [0.17364458]]\n",
            "if pred < 0.2 THEN assummption = 0, else pred = 1\n"
          ]
        }
      ]
    }
  ]
}